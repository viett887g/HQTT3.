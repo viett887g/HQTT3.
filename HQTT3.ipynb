{
  "nbformat": 4,
  "nbformat_minor": 0,
  "metadata": {
    "colab": {
      "provenance": [],
      "authorship_tag": "ABX9TyNZYki2R+3JeOWAdxvB4ZRM",
      "include_colab_link": true
    },
    "kernelspec": {
      "name": "python3",
      "display_name": "Python 3"
    },
    "language_info": {
      "name": "python"
    }
  },
  "cells": [
    {
      "cell_type": "markdown",
      "metadata": {
        "id": "view-in-github",
        "colab_type": "text"
      },
      "source": [
        "<a href=\"https://colab.research.google.com/github/viett887g/HQTT3./blob/main/HQTT3.ipynb\" target=\"_parent\"><img src=\"https://colab.research.google.com/assets/colab-badge.svg\" alt=\"Open In Colab\"/></a>"
      ]
    },
    {
      "cell_type": "code",
      "source": [
        "import os\n",
        "import numpy as np\n",
        "from sklearn.linear_model import LogisticRegression\n",
        "from sklearn import preprocessing"
      ],
      "metadata": {
        "id": "ZPPwZvC-e1p6"
      },
      "execution_count": 4,
      "outputs": []
    },
    {
      "cell_type": "code",
      "execution_count": 19,
      "metadata": {
        "colab": {
          "base_uri": "https://localhost:8080/"
        },
        "id": "NPaWEjHmezmu",
        "outputId": "44089dfc-2d28-4224-a1ec-98d5992a7b2d"
      },
      "outputs": [
        {
          "output_type": "stream",
          "name": "stdout",
          "text": [
            "Kích thước của tập dữ liệu:  (100, 3)\n",
            "Kích thước tập X:  (100, 2)\n",
            "Kích thước vector y:  (100,)\n",
            "w_op:  [[3.12281937 2.82347911]]\n"
          ]
        }
      ],
      "source": [
        "def readfile(filename,danfile):\n",
        "  D = np.loadtxt(os.path.join(filename,danfile),delimiter=\",\")\n",
        "  print('Kích thước của tập dữ liệu: ', D.shape)\n",
        "  X, y = D[:,:-1], D[:, -1]\n",
        "  X =preprocessing.MinMaxScaler().fit_transform(X)\n",
        "  print('Kích thước tập X: ', X.shape)\n",
        "  print('Kích thước vector y: ', y.shape)\n",
        "  model = LogisticRegression().fit(X,y)\n",
        "  print('w_op: ', model.coef_)\n",
        "readfile(\"/content\",\"ex2data1.txt\")"
      ]
    }
  ]
}